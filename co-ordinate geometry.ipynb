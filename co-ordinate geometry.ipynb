{
 "cells": [
  {
   "cell_type": "code",
   "execution_count": 1,
   "id": "4be5d57c",
   "metadata": {},
   "outputs": [],
   "source": [
    "class CoordinateGeometry:\n",
    "    \n",
    "    def distance(self, x1, y1, x2, y2):\n",
    "        \"\"\"Calculate the distance between two points (x1, y1) and (x2, y2)\"\"\"\n",
    "        return ((x2 - x1) ** 2 + (y2 - y1) ** 2) ** 0.5\n",
    "    \n",
    "    def midpoint(self, x1, y1, x2, y2):\n",
    "        \"\"\"Calculate the midpoint between two points (x1, y1) and (x2, y2)\"\"\"\n",
    "        return ((x1 + x2) / 2, (y1 + y2) / 2)\n",
    "    \n",
    "    def slope(self, x1, y1, x2, y2):\n",
    "        \"\"\"Calculate the slope of the line passing through two points (x1, y1) and (x2, y2)\"\"\"\n",
    "        if x1 == x2:\n",
    "            return float('inf')\n",
    "        else:\n",
    "            return (y2 - y1) / (x2 - x1)\n",
    "    \n",
    "    def y_intercept(self, x1, y1, x2, y2):\n",
    "        \"\"\"Calculate the y-intercept of the line passing through two points (x1, y1) and (x2, y2)\"\"\"\n",
    "        if x1 == x2:\n",
    "            return None\n",
    "        else:\n",
    "            m = self.slope(x1, y1, x2, y2)\n",
    "            return y1 - m * x1\n",
    "    \n",
    "    def x_intercept(self, x1, y1, x2, y2):\n",
    "        \"\"\"Calculate the x-intercept of the line passing through two points (x1, y1) and (x2, y2)\"\"\"\n",
    "        if y1 == y2:\n",
    "            return None\n",
    "        else:\n",
    "            m = self.slope(x1, y1, x2, y2)\n",
    "            b = self.y_intercept(x1, y1, x2, y2)\n",
    "            return -b / m if m != 0 else None\n",
    "    \n",
    "    def slope_intercept(self, x1, y1, x2, y2):\n",
    "        \"\"\"Calculate the slope and y-intercept of the line passing through two points (x1, y1) and (x2, y2)\"\"\"\n",
    "        m = self.slope(x1, y1, x2, y2)\n",
    "        b = self.y_intercept(x1, y1, x2, y2)\n",
    "        return m, b\n",
    "    \n",
    "    def point_slope(self, x1, y1, m):\n",
    "        \"\"\"Calculate the equation of the line passing through the point (x1, y1) with slope m\"\"\"\n",
    "        b = y1 - m * x1\n",
    "        return m, b\n",
    "    \n",
    "    def distance_point_line(self, x, y, m, b):\n",
    "        \"\"\"Calculate the distance between a point (x, y) and a line with equation y = mx + b\"\"\"\n",
    "        return abs(m * x - y + b) / ((m ** 2 + 1) ** 0.5)\n",
    "    \n",
    "    def perpendicular_bisector(self, x1, y1, x2, y2):\n",
    "        \"\"\"Calculate the equation of the perpendicular bisector of the line segment between (x1, y1) and (x2, y2)\"\"\"\n",
    "        mid = self.midpoint(x1, y1, x2, y2)\n",
    "        m = self.slope(x1, y1, x2, y2)\n",
    "        if m == 0:\n",
    "            return mid[0], None"
   ]
  },
  {
   "cell_type": "code",
   "execution_count": null,
   "id": "3ba4290c",
   "metadata": {},
   "outputs": [],
   "source": []
  }
 ],
 "metadata": {
  "kernelspec": {
   "display_name": "Python 3 (ipykernel)",
   "language": "python",
   "name": "python3"
  },
  "language_info": {
   "codemirror_mode": {
    "name": "ipython",
    "version": 3
   },
   "file_extension": ".py",
   "mimetype": "text/x-python",
   "name": "python",
   "nbconvert_exporter": "python",
   "pygments_lexer": "ipython3",
   "version": "3.9.13"
  }
 },
 "nbformat": 4,
 "nbformat_minor": 5
}
